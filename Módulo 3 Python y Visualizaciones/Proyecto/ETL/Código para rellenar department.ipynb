{
 "cells": [
  {
   "cell_type": "code",
   "execution_count": 22,
   "id": "c2427d98",
   "metadata": {},
   "outputs": [],
   "source": [
    "import pandas as pd\n",
    "import numpy as np"
   ]
  },
  {
   "cell_type": "code",
   "execution_count": 23,
   "id": "f65e33bb",
   "metadata": {},
   "outputs": [],
   "source": [
    "df = pd.read_csv('HR RAW DATA.csv')\n"
   ]
  },
  {
   "cell_type": "code",
   "execution_count": 24,
   "id": "81d8df28",
   "metadata": {},
   "outputs": [],
   "source": [
    "df1 = df['JobRole'].str.lower()\n",
    "df['JobRole'] = df1"
   ]
  },
  {
   "cell_type": "code",
   "execution_count": 25,
   "id": "e0278984",
   "metadata": {},
   "outputs": [],
   "source": [
    "df2 = df['Department'].str.lower()\n",
    "df['Department'] = df2"
   ]
  },
  {
   "cell_type": "code",
   "execution_count": 26,
   "id": "8ae624ba",
   "metadata": {},
   "outputs": [],
   "source": [
    "df_dep = df['Department'].str.lower()"
   ]
  },
  {
   "cell_type": "code",
   "execution_count": 27,
   "id": "cb227a97",
   "metadata": {},
   "outputs": [],
   "source": [
    "df_rj = df['JobRole'].str.lower()"
   ]
  },
  {
   "cell_type": "code",
   "execution_count": 28,
   "id": "600d05cd",
   "metadata": {},
   "outputs": [],
   "source": [
    "df_dep = df_dep.fillna('NC')"
   ]
  },
  {
   "cell_type": "code",
   "execution_count": 29,
   "id": "05440652",
   "metadata": {},
   "outputs": [
    {
     "data": {
      "text/plain": [
       "<bound method Series.to_frame of 0             research director \n",
       "1                       manager \n",
       "2                       manager \n",
       "3             research director \n",
       "4               sales executive \n",
       "                  ...           \n",
       "1609            sales executive \n",
       "1610      laboratory technician \n",
       "1611            sales executive \n",
       "1612            sales executive \n",
       "1613     manufacturing director \n",
       "Name: JobRole, Length: 1614, dtype: object>"
      ]
     },
     "execution_count": 29,
     "metadata": {},
     "output_type": "execute_result"
    }
   ],
   "source": [
    "df_dep.to_frame\n",
    "df_rj.to_frame"
   ]
  },
  {
   "cell_type": "code",
   "execution_count": 30,
   "id": "3562d342",
   "metadata": {},
   "outputs": [],
   "source": [
    "dep_rj = pd.concat([df_dep, df_rj],  axis=1, ignore_index=True).rename(columns={0: 'Department', 1: 'JobRole'})"
   ]
  },
  {
   "cell_type": "code",
   "execution_count": 31,
   "id": "6e487054",
   "metadata": {},
   "outputs": [
    {
     "data": {
      "application/vnd.microsoft.datawrangler.viewer.v0+json": {
       "columns": [
        {
         "name": "index",
         "rawType": "int64",
         "type": "integer"
        },
        {
         "name": "Department",
         "rawType": "object",
         "type": "string"
        },
        {
         "name": "JobRole",
         "rawType": "object",
         "type": "string"
        }
       ],
       "ref": "fb62abe0-1668-4ede-a483-0c33ce78205c",
       "rows": [
        [
         "0",
         "NC",
         " research director "
        ],
        [
         "1",
         "NC",
         " manager "
        ],
        [
         "2",
         " research & development ",
         " manager "
        ],
        [
         "3",
         "NC",
         " research director "
        ],
        [
         "4",
         "NC",
         " sales executive "
        ],
        [
         "5",
         " research & development ",
         " manager "
        ],
        [
         "6",
         "NC",
         " sales executive "
        ],
        [
         "7",
         "NC",
         " sales executive "
        ],
        [
         "8",
         "NC",
         " manager "
        ],
        [
         "9",
         "NC",
         " research director "
        ],
        [
         "10",
         "NC",
         " research director "
        ],
        [
         "11",
         "NC",
         " manufacturing director "
        ],
        [
         "12",
         "NC",
         " research director "
        ],
        [
         "13",
         "NC",
         " research director "
        ],
        [
         "14",
         "NC",
         " research director "
        ],
        [
         "15",
         "NC",
         " manager "
        ],
        [
         "16",
         "NC",
         " research director "
        ],
        [
         "17",
         "NC",
         " manager "
        ],
        [
         "18",
         "NC",
         " research scientist "
        ],
        [
         "19",
         "NC",
         " manufacturing director "
        ],
        [
         "20",
         " research & development ",
         " healthcare representative "
        ],
        [
         "21",
         "NC",
         " research director "
        ],
        [
         "22",
         "NC",
         " healthcare representative "
        ],
        [
         "23",
         "NC",
         " manager "
        ],
        [
         "24",
         "NC",
         " sales executive "
        ],
        [
         "25",
         "NC",
         " manufacturing director "
        ],
        [
         "26",
         "NC",
         " manager "
        ],
        [
         "27",
         "NC",
         " manufacturing director "
        ],
        [
         "28",
         "NC",
         " laboratory technician "
        ],
        [
         "29",
         " sales ",
         " sales executive "
        ],
        [
         "30",
         " sales ",
         " sales executive "
        ],
        [
         "31",
         " research & development ",
         " healthcare representative "
        ],
        [
         "32",
         "NC",
         " manager "
        ],
        [
         "33",
         "NC",
         " sales executive "
        ],
        [
         "34",
         "NC",
         " research scientist "
        ],
        [
         "35",
         "NC",
         " sales executive "
        ],
        [
         "36",
         "NC",
         " manager "
        ],
        [
         "37",
         " research & development ",
         " laboratory technician "
        ],
        [
         "38",
         "NC",
         " sales executive "
        ],
        [
         "39",
         "NC",
         " sales executive "
        ],
        [
         "40",
         "NC",
         " manufacturing director "
        ],
        [
         "41",
         "NC",
         " laboratory technician "
        ],
        [
         "42",
         "NC",
         " manager "
        ],
        [
         "43",
         "NC",
         " laboratory technician "
        ],
        [
         "44",
         "NC",
         " research scientist "
        ],
        [
         "45",
         "NC",
         " sales executive "
        ],
        [
         "46",
         "NC",
         " healthcare representative "
        ],
        [
         "47",
         "NC",
         " manager "
        ],
        [
         "48",
         "NC",
         " research scientist "
        ],
        [
         "49",
         "NC",
         " sales executive "
        ]
       ],
       "shape": {
        "columns": 2,
        "rows": 1614
       }
      },
      "text/html": [
       "<div>\n",
       "<style scoped>\n",
       "    .dataframe tbody tr th:only-of-type {\n",
       "        vertical-align: middle;\n",
       "    }\n",
       "\n",
       "    .dataframe tbody tr th {\n",
       "        vertical-align: top;\n",
       "    }\n",
       "\n",
       "    .dataframe thead th {\n",
       "        text-align: right;\n",
       "    }\n",
       "</style>\n",
       "<table border=\"1\" class=\"dataframe\">\n",
       "  <thead>\n",
       "    <tr style=\"text-align: right;\">\n",
       "      <th></th>\n",
       "      <th>Department</th>\n",
       "      <th>JobRole</th>\n",
       "    </tr>\n",
       "  </thead>\n",
       "  <tbody>\n",
       "    <tr>\n",
       "      <th>0</th>\n",
       "      <td>NC</td>\n",
       "      <td>research director</td>\n",
       "    </tr>\n",
       "    <tr>\n",
       "      <th>1</th>\n",
       "      <td>NC</td>\n",
       "      <td>manager</td>\n",
       "    </tr>\n",
       "    <tr>\n",
       "      <th>2</th>\n",
       "      <td>research &amp; development</td>\n",
       "      <td>manager</td>\n",
       "    </tr>\n",
       "    <tr>\n",
       "      <th>3</th>\n",
       "      <td>NC</td>\n",
       "      <td>research director</td>\n",
       "    </tr>\n",
       "    <tr>\n",
       "      <th>4</th>\n",
       "      <td>NC</td>\n",
       "      <td>sales executive</td>\n",
       "    </tr>\n",
       "    <tr>\n",
       "      <th>...</th>\n",
       "      <td>...</td>\n",
       "      <td>...</td>\n",
       "    </tr>\n",
       "    <tr>\n",
       "      <th>1609</th>\n",
       "      <td>NC</td>\n",
       "      <td>sales executive</td>\n",
       "    </tr>\n",
       "    <tr>\n",
       "      <th>1610</th>\n",
       "      <td>NC</td>\n",
       "      <td>laboratory technician</td>\n",
       "    </tr>\n",
       "    <tr>\n",
       "      <th>1611</th>\n",
       "      <td>NC</td>\n",
       "      <td>sales executive</td>\n",
       "    </tr>\n",
       "    <tr>\n",
       "      <th>1612</th>\n",
       "      <td>NC</td>\n",
       "      <td>sales executive</td>\n",
       "    </tr>\n",
       "    <tr>\n",
       "      <th>1613</th>\n",
       "      <td>NC</td>\n",
       "      <td>manufacturing director</td>\n",
       "    </tr>\n",
       "  </tbody>\n",
       "</table>\n",
       "<p>1614 rows × 2 columns</p>\n",
       "</div>"
      ],
      "text/plain": [
       "                    Department                   JobRole\n",
       "0                           NC        research director \n",
       "1                           NC                  manager \n",
       "2      research & development                   manager \n",
       "3                           NC        research director \n",
       "4                           NC          sales executive \n",
       "...                        ...                       ...\n",
       "1609                        NC          sales executive \n",
       "1610                        NC    laboratory technician \n",
       "1611                        NC          sales executive \n",
       "1612                        NC          sales executive \n",
       "1613                        NC   manufacturing director \n",
       "\n",
       "[1614 rows x 2 columns]"
      ]
     },
     "execution_count": 31,
     "metadata": {},
     "output_type": "execute_result"
    }
   ],
   "source": [
    "dep_rj"
   ]
  },
  {
   "cell_type": "code",
   "execution_count": 32,
   "id": "9ac13868",
   "metadata": {},
   "outputs": [
    {
     "data": {
      "text/plain": [
       "array(['NC', ' research & development ', ' sales ', ' human resources '],\n",
       "      dtype=object)"
      ]
     },
     "execution_count": 32,
     "metadata": {},
     "output_type": "execute_result"
    }
   ],
   "source": [
    "deps = dep_rj['Department'].unique()\n",
    "deps"
   ]
  },
  {
   "cell_type": "code",
   "execution_count": 33,
   "id": "82b54345",
   "metadata": {},
   "outputs": [
    {
     "data": {
      "text/plain": [
       "array([' research director ', ' manager ', ' sales executive ',\n",
       "       ' manufacturing director ', ' research scientist ',\n",
       "       ' healthcare representative ', ' laboratory technician ',\n",
       "       ' sales representative ', ' human resources '], dtype=object)"
      ]
     },
     "execution_count": 33,
     "metadata": {},
     "output_type": "execute_result"
    }
   ],
   "source": [
    "roles = dep_rj['JobRole'].unique()\n",
    "roles"
   ]
  },
  {
   "cell_type": "code",
   "execution_count": 34,
   "id": "855e03cd",
   "metadata": {},
   "outputs": [
    {
     "data": {
      "application/vnd.microsoft.datawrangler.viewer.v0+json": {
       "columns": [
        {
         "name": "index",
         "rawType": "int64",
         "type": "integer"
        },
        {
         "name": "Department",
         "rawType": "object",
         "type": "string"
        },
        {
         "name": "JobRole",
         "rawType": "object",
         "type": "string"
        }
       ],
       "ref": "c30b5882-4b4e-45df-8b7c-f8699ee310ff",
       "rows": [
        [
         "0",
         "research & development",
         " research director "
        ],
        [
         "1",
         "unknow",
         " manager "
        ],
        [
         "2",
         "research & development",
         " manager "
        ],
        [
         "3",
         "research & development",
         " research director "
        ],
        [
         "4",
         "sales",
         " sales executive "
        ],
        [
         "5",
         "research & development",
         " manager "
        ],
        [
         "6",
         "sales",
         " sales executive "
        ],
        [
         "7",
         "sales",
         " sales executive "
        ],
        [
         "8",
         "unknow",
         " manager "
        ],
        [
         "9",
         "research & development",
         " research director "
        ],
        [
         "10",
         "research & development",
         " research director "
        ],
        [
         "11",
         "research & development",
         " manufacturing director "
        ],
        [
         "12",
         "research & development",
         " research director "
        ],
        [
         "13",
         "research & development",
         " research director "
        ],
        [
         "14",
         "research & development",
         " research director "
        ],
        [
         "15",
         "unknow",
         " manager "
        ],
        [
         "16",
         "research & development",
         " research director "
        ],
        [
         "17",
         "unknow",
         " manager "
        ],
        [
         "18",
         "research & development",
         " research scientist "
        ],
        [
         "19",
         "research & development",
         " manufacturing director "
        ],
        [
         "20",
         "research & development",
         " healthcare representative "
        ],
        [
         "21",
         "research & development",
         " research director "
        ],
        [
         "22",
         "research & development",
         " healthcare representative "
        ],
        [
         "23",
         "unknow",
         " manager "
        ],
        [
         "24",
         "sales",
         " sales executive "
        ],
        [
         "25",
         "research & development",
         " manufacturing director "
        ],
        [
         "26",
         "unknow",
         " manager "
        ],
        [
         "27",
         "research & development",
         " manufacturing director "
        ],
        [
         "28",
         "research & development",
         " laboratory technician "
        ],
        [
         "29",
         "sales",
         " sales executive "
        ],
        [
         "30",
         "sales",
         " sales executive "
        ],
        [
         "31",
         "research & development",
         " healthcare representative "
        ],
        [
         "32",
         "unknow",
         " manager "
        ],
        [
         "33",
         "sales",
         " sales executive "
        ],
        [
         "34",
         "research & development",
         " research scientist "
        ],
        [
         "35",
         "sales",
         " sales executive "
        ],
        [
         "36",
         "unknow",
         " manager "
        ],
        [
         "37",
         "research & development",
         " laboratory technician "
        ],
        [
         "38",
         "sales",
         " sales executive "
        ],
        [
         "39",
         "sales",
         " sales executive "
        ],
        [
         "40",
         "research & development",
         " manufacturing director "
        ],
        [
         "41",
         "research & development",
         " laboratory technician "
        ],
        [
         "42",
         "unknow",
         " manager "
        ],
        [
         "43",
         "research & development",
         " laboratory technician "
        ],
        [
         "44",
         "research & development",
         " research scientist "
        ],
        [
         "45",
         "sales",
         " sales executive "
        ],
        [
         "46",
         "research & development",
         " healthcare representative "
        ],
        [
         "47",
         "unknow",
         " manager "
        ],
        [
         "48",
         "research & development",
         " research scientist "
        ],
        [
         "49",
         "sales",
         " sales executive "
        ]
       ],
       "shape": {
        "columns": 2,
        "rows": 1614
       }
      },
      "text/html": [
       "<div>\n",
       "<style scoped>\n",
       "    .dataframe tbody tr th:only-of-type {\n",
       "        vertical-align: middle;\n",
       "    }\n",
       "\n",
       "    .dataframe tbody tr th {\n",
       "        vertical-align: top;\n",
       "    }\n",
       "\n",
       "    .dataframe thead th {\n",
       "        text-align: right;\n",
       "    }\n",
       "</style>\n",
       "<table border=\"1\" class=\"dataframe\">\n",
       "  <thead>\n",
       "    <tr style=\"text-align: right;\">\n",
       "      <th></th>\n",
       "      <th>Department</th>\n",
       "      <th>JobRole</th>\n",
       "    </tr>\n",
       "  </thead>\n",
       "  <tbody>\n",
       "    <tr>\n",
       "      <th>0</th>\n",
       "      <td>research &amp; development</td>\n",
       "      <td>research director</td>\n",
       "    </tr>\n",
       "    <tr>\n",
       "      <th>1</th>\n",
       "      <td>unknow</td>\n",
       "      <td>manager</td>\n",
       "    </tr>\n",
       "    <tr>\n",
       "      <th>2</th>\n",
       "      <td>research &amp; development</td>\n",
       "      <td>manager</td>\n",
       "    </tr>\n",
       "    <tr>\n",
       "      <th>3</th>\n",
       "      <td>research &amp; development</td>\n",
       "      <td>research director</td>\n",
       "    </tr>\n",
       "    <tr>\n",
       "      <th>4</th>\n",
       "      <td>sales</td>\n",
       "      <td>sales executive</td>\n",
       "    </tr>\n",
       "    <tr>\n",
       "      <th>...</th>\n",
       "      <td>...</td>\n",
       "      <td>...</td>\n",
       "    </tr>\n",
       "    <tr>\n",
       "      <th>1609</th>\n",
       "      <td>sales</td>\n",
       "      <td>sales executive</td>\n",
       "    </tr>\n",
       "    <tr>\n",
       "      <th>1610</th>\n",
       "      <td>research &amp; development</td>\n",
       "      <td>laboratory technician</td>\n",
       "    </tr>\n",
       "    <tr>\n",
       "      <th>1611</th>\n",
       "      <td>sales</td>\n",
       "      <td>sales executive</td>\n",
       "    </tr>\n",
       "    <tr>\n",
       "      <th>1612</th>\n",
       "      <td>sales</td>\n",
       "      <td>sales executive</td>\n",
       "    </tr>\n",
       "    <tr>\n",
       "      <th>1613</th>\n",
       "      <td>research &amp; development</td>\n",
       "      <td>manufacturing director</td>\n",
       "    </tr>\n",
       "  </tbody>\n",
       "</table>\n",
       "<p>1614 rows × 2 columns</p>\n",
       "</div>"
      ],
      "text/plain": [
       "                  Department                   JobRole\n",
       "0     research & development        research director \n",
       "1                     unknow                  manager \n",
       "2     research & development                  manager \n",
       "3     research & development        research director \n",
       "4                      sales          sales executive \n",
       "...                      ...                       ...\n",
       "1609                   sales          sales executive \n",
       "1610  research & development    laboratory technician \n",
       "1611                   sales          sales executive \n",
       "1612                   sales          sales executive \n",
       "1613  research & development   manufacturing director \n",
       "\n",
       "[1614 rows x 2 columns]"
      ]
     },
     "metadata": {},
     "output_type": "display_data"
    }
   ],
   "source": [
    "def rellenar_departamentos(fila):\n",
    "    job_role_actual = fila['JobRole'].strip()\n",
    "    department_actual = fila['Department'].strip()\n",
    "\n",
    "    nuevo_departamento = department_actual # Por defecto, mantenemos el valor actual\n",
    "\n",
    "    if department_actual == 'NC': \n",
    "        if job_role_actual in ['research director', 'manufacturing director', 'healthcare representative', 'research scientist', 'laboratory technician']:\n",
    "            nuevo_departamento = 'research & development'\n",
    "        elif job_role_actual in ['sales representative', 'sales executive']:\n",
    "            nuevo_departamento = 'sales'\n",
    "        elif job_role_actual == 'human resources':\n",
    "            nuevo_departamento = 'human resources'\n",
    "        else:\n",
    "            nuevo_departamento = 'unknow' \n",
    "\n",
    "    return nuevo_departamento \n",
    "\n",
    "dep_rj['Department'] = dep_rj.apply(rellenar_departamentos, axis=1)\n",
    "\n",
    "display(dep_rj)"
   ]
  },
  {
   "cell_type": "code",
   "execution_count": 35,
   "id": "41b9a2ff",
   "metadata": {},
   "outputs": [
    {
     "data": {
      "application/vnd.microsoft.datawrangler.viewer.v0+json": {
       "columns": [
        {
         "name": "Department",
         "rawType": "object",
         "type": "string"
        },
        {
         "name": "count",
         "rawType": "int64",
         "type": "integer"
        }
       ],
       "ref": "46016c97-5a9f-4139-bc0d-fbe5fd190838",
       "rows": [
        [
         "research & development",
         "1001"
        ],
        [
         "sales",
         "464"
        ],
        [
         "unknow",
         "91"
        ],
        [
         "human resources",
         "58"
        ]
       ],
       "shape": {
        "columns": 1,
        "rows": 4
       }
      },
      "text/plain": [
       "Department\n",
       "research & development    1001\n",
       "sales                      464\n",
       "unknow                      91\n",
       "human resources             58\n",
       "Name: count, dtype: int64"
      ]
     },
     "execution_count": 35,
     "metadata": {},
     "output_type": "execute_result"
    }
   ],
   "source": [
    "dep_rj['Department'].value_counts()"
   ]
  },
  {
   "cell_type": "code",
   "execution_count": 36,
   "id": "d9d53f3b",
   "metadata": {},
   "outputs": [],
   "source": [
    "columna_department = dep_rj['Department'].copy()"
   ]
  },
  {
   "cell_type": "code",
   "execution_count": 37,
   "id": "bc52eefa",
   "metadata": {},
   "outputs": [],
   "source": [
    "columna_department.to_csv('Columna_department.csv')"
   ]
  },
  {
   "cell_type": "code",
   "execution_count": null,
   "id": "8bed61cd",
   "metadata": {},
   "outputs": [],
   "source": []
  }
 ],
 "metadata": {
  "kernelspec": {
   "display_name": "base",
   "language": "python",
   "name": "python3"
  },
  "language_info": {
   "codemirror_mode": {
    "name": "ipython",
    "version": 3
   },
   "file_extension": ".py",
   "mimetype": "text/x-python",
   "name": "python",
   "nbconvert_exporter": "python",
   "pygments_lexer": "ipython3",
   "version": "3.12.7"
  }
 },
 "nbformat": 4,
 "nbformat_minor": 5
}
