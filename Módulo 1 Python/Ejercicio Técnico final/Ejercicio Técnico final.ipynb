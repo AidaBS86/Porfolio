{
 "cells": [
  {
   "cell_type": "markdown",
   "id": "ef10ecd1",
   "metadata": {},
   "source": [
    "### Evaluación Final Módulo 1 Aida Bau\n",
    "#### Evaluación clases\n",
    "\n",
    "##### _Tienda Online Viste a tu rollo_"
   ]
  },
  {
   "cell_type": "code",
   "execution_count": null,
   "id": "dfb1541d",
   "metadata": {},
   "outputs": [],
   "source": [
    "#1º creo las variables de los atributos con lo indicado.\n",
    "lista_inventario = []\n",
    "dicc_clientes = {}\n",
    "acumulador_ventas = 0\n",
    "\n",
    "#2º inicio la clase y defino los atributos.\n",
    "class TiendaOnline:\n",
    "    def __init__ (self, inventario, clientes, ventas_totales):\n",
    "        self.inventario = lista_inventario\n",
    "        self.clientes = dicc_clientes\n",
    "        self.ventas_totales = acumulador_ventas\n",
    "\n",
    "#3º creo el método agregar_producto.\n",
    "    def agregar_producto(self, nombre, precio, cantidad):\n",
    "        for producto in self.inventario:                      #por cada producto en el inventario\n",
    "            if producto[\"nombre\"] == nombre.lower():          #si el producto pasado es igual al nombre en el inventario y que transforme lo pasado a minúsculas\n",
    "                producto[\"cantidad\"] += cantidad              #que sume la cantidad del producto a la cantidad ya existente\n",
    "                print(f\"Se han añadido {cantidad} unidades al producto {producto['nombre']}.\")            #mensaje de confirmación\n",
    "                print(f\"Ahora hay {producto['cantidad']} unidades del producto {producto['nombre']}.\")    #mensaje que muestre la actualización del producto\n",
    "                break                     \n",
    "        else:                                                  # sino esta en el inventario, añadelo con todas las claves necesarias y el tipo de valores que espera\n",
    "            self.inventario.append({\"nombre\": nombre, \"precio\": precio, \"cantidad\": cantidad})\n",
    "            print (\"Este es un producto nuevo, se ha añadido a la lista del inventario\")                   #mensaje de confirmación\n",
    "            print (self.inventario)                            # imprimo la lista para verificar que queda añadido\n",
    "            return self.inventario\n",
    "\n",
    "#4º creo el método ver_inventario   \n",
    "    def ver_inventario(self):                            \n",
    "        for producto in self.inventario:         #por cada producto en el inventario\n",
    "            print (f\"Nombre: {producto['nombre']}, Precio: {producto['precio']}€, Cantidad: {producto['cantidad']}\")   \n",
    "            #imprime Nombre y el nombre del producto, Precio y el precio del producto, Cantidad y la cantidad del producto\n",
    "        return \n",
    "                   \n",
    "#5º creo el método buscar_producto\n",
    "    def buscar_producto(self, nombre):\n",
    "        for producto in self.inventario:                  #por cada producto en el inventario\n",
    "            if producto[\"nombre\"] == nombre.lower():      #si el producto añadido coincide con alguno del inventario y que transforme lo pasado a minúsculas\n",
    "                return producto\n",
    "                #devuelvo el producto y paro el bucle para que no pase al else\n",
    "        else:                                         #si el producto añadido no coincide con ninguno del inventario\n",
    "            print (f\"Este producto no existe\")\n",
    "                #imprime que ese producto no está en el inventario (aunque no se pide en el ejercicio, me parece más limpio así :)\n",
    "           \n",
    "#6º creo el método actualizar_stock\n",
    "    def actualizar_stock(self, nombre, cantidad):\n",
    "        for producto in self.inventario:                                     #por cada producto en el inventario \n",
    "            if producto[\"nombre\"] == nombre.lower():                         #si el nombre añadido coincide con alguno del inventario y que transforme lo pasado a minúscula\n",
    "                tipo_movimiento = input (\"¿Desea añadir o retirar?\").lower()\n",
    "                if tipo_movimiento == \"retirar\":                \n",
    "                    producto[\"cantidad\"] -= cantidad                             #resto la cantidad solicitada a la cantidad del producto\n",
    "                    print(f\"Usted a retirado {cantidad}\")\n",
    "                    print(f\"La cantidad disponible de {producto['nombre']} es {producto['cantidad']}\")\n",
    "                elif tipo_movimiento == \"añadir\":\n",
    "                    producto[\"cantidad\"] += cantidad                             #sumo la cantidad añadida a la cantidad del producto\n",
    "                    print(f\"Usted a añadido {cantidad}\")\n",
    "                    print(f\"La cantidad disponible de {producto['nombre']} es {producto['cantidad']}\")\n",
    "                return producto\n",
    "        else:                                                            #si el nombre añadido no coincide con ninguno del inventario\n",
    "            print (\"El producto solicitado no está en nuestro inventario\")     #imprimir que ese producto no está en el inventario          \n",
    "\n",
    "#7º creo el método eliminar_producto\n",
    "    def eliminar_producto(self, nombre):\n",
    "        for producto in self.inventario:                                #por cada producto en el inventario\n",
    "            if producto['nombre'] == nombre.lower():                    #si el nombre añadido coincide con alguno del inventario y que transforme lo pasado a minúscula\n",
    "               self.inventario.remove(producto)                         #elimino ese diccionario entero del self.inventario\n",
    "               return self.inventario                                   #detengo el for para que no pase al else e imprimo el inventario actual\n",
    "        else:\n",
    "            print (f\"Este producto no existe\")                          #si el nombre añadido no coincide con ninguno del inventario, imprimo no existe\n",
    "    \n",
    "#8º creo el método calcular_valor_inventario\n",
    "    def calcular_valor_inventario(self):\n",
    "        for producto in self.inventario:                                    #por cada producto en el inventario\n",
    "            total_producto = producto[\"precio\"] * producto[\"cantidad\"]      #creo una variable de multiplicar el precio por la cantidad en cada producto\n",
    "            self.ventas_totales += total_producto                           #sumo a las ventas totales cada total del producto creado\n",
    "\n",
    "        return self.ventas_totales                                          #devuelvo el resultado fuera del for para que no entre en el bucle\n",
    "            \n",
    "    \n",
    "#9º creo el método realizar_compra\n",
    "    def realizar_compra(self):\n",
    "        \n",
    "        print (\"¡Bienvenide a la tienda online Viste a tu rollo!Estos son los productos disponibles:\")   #imprimo un saludo\n",
    "\n",
    "        self.ver_inventario()           #añado la función ver inventario para que el cliente vea los productos disponibles\n",
    "        carrito = {}                    #creo el carrito con un diccionario vacío\n",
    "        total_compra = 0                #creo la variable total de la compra para empezar en 0 e ir sumando\n",
    "\n",
    "        while True:                     #creo un mientras verdadero para que haya un bucle y vuelva aqui segun las elecciones del usuario\n",
    "            articulo = input(\"¿Qué producto desea comprar?(Añada el guión bajo)(sino desea comprar inserte salir)\")     #creo la variable articulo con la peticion del usuario\n",
    "            if articulo == \"salir\":                                                 #si el usuario elige salir imprimo una despedida y corto el bucle\n",
    "                print(\"¡Muchas gracias por su visita, espero verle pronto!\")\n",
    "                break\n",
    "            for producto in self.inventario:                        #por cada producto en el inventario\n",
    "                if producto['nombre'] == articulo.lower():          #si el nombre añadido coincide con alguno del inventario y que transforme lo pasado a minúscula\n",
    "                    retirada = int(input(f\"¡Buena elección! ¿Qué cantidad de {articulo} desea comprar?\"))      #creo la variable retirada con la peticion del usuario y le imprimo su elección completa\n",
    "                    print (f\"Usted a escogido comprar {retirada} {articulo}\")\n",
    "                    carrito.update({articulo:retirada})             #añado la petición del usuario al carrito\n",
    "                    producto[\"cantidad\"] -= retirada                #resto la cantidad del usuario a la de mi stock y corto el for\n",
    "                    break\n",
    "\n",
    "            seguir_comprando = input(\"¿Desea comprar algo más? s/n\")        #creo la variable seguir comprando con posibles respuestas de si o no\n",
    "            if seguir_comprando != \"s\":                                     #si el usuario escoge no corto el bucle, si escoge si, vuelve al principio para que escoja producto y cantidad\n",
    "                break\n",
    "                                               \n",
    "        for articulo, retirada in carrito.items():                          #creo un for para iterar sobre los productos del carrito\n",
    "            for producto in self.inventario:                                #creo otro for para iterar sobre los productos del inventario y poder extraer el precio\n",
    "                if producto['nombre'] == articulo.lower():                  #si el nombre del carrito coincide con alguno del inventario...\n",
    "                    precio = producto['precio']                             #creo la variable precio, extrayendo la info del producto del inventario y su precio\n",
    "                    total_compra += precio * retirada                       #sumo a la variable total_compra, la multiplicación del precio extraido y la cantidad que solicita el usuario\n",
    "        print(f\"El total de su compra ha sido {total_compra}€. ¡Muchas gracias por comprar en Viste a tu rollo!\")   #imprimo frase de despedida con el total de la compra\n",
    "                        "
   ]
  },
  {
   "cell_type": "code",
   "execution_count": 174,
   "id": "5017628b",
   "metadata": {},
   "outputs": [],
   "source": [
    "#Creo el objeto tienda para poder llamar a las funciones\n",
    "\n",
    "Viste_a_tu_rollo = TiendaOnline(lista_inventario, dicc_clientes, acumulador_ventas) \n",
    "#lo actualizo cada vez que creo o modifico una función para que coja los cambios"
   ]
  },
  {
   "cell_type": "code",
   "execution_count": 175,
   "id": "e766fa57",
   "metadata": {},
   "outputs": [
    {
     "name": "stdout",
     "output_type": "stream",
     "text": [
      "Este es un producto nuevo, se ha añadido a la lista del inventario\n",
      "[{'nombre': 'sombrero_vaquero', 'precio': 12, 'cantidad': 40}]\n",
      "Este es un producto nuevo, se ha añadido a la lista del inventario\n",
      "[{'nombre': 'sombrero_vaquero', 'precio': 12, 'cantidad': 40}, {'nombre': 'camisa_hawaiana', 'precio': 18, 'cantidad': 30}]\n",
      "Este es un producto nuevo, se ha añadido a la lista del inventario\n",
      "[{'nombre': 'sombrero_vaquero', 'precio': 12, 'cantidad': 40}, {'nombre': 'camisa_hawaiana', 'precio': 18, 'cantidad': 30}, {'nombre': 'pantalon_gotico', 'precio': 35, 'cantidad': 25}]\n",
      "Este es un producto nuevo, se ha añadido a la lista del inventario\n",
      "[{'nombre': 'sombrero_vaquero', 'precio': 12, 'cantidad': 40}, {'nombre': 'camisa_hawaiana', 'precio': 18, 'cantidad': 30}, {'nombre': 'pantalon_gotico', 'precio': 35, 'cantidad': 25}, {'nombre': 'falda_escocesa', 'precio': 25, 'cantidad': 18}]\n",
      "Este es un producto nuevo, se ha añadido a la lista del inventario\n",
      "[{'nombre': 'sombrero_vaquero', 'precio': 12, 'cantidad': 40}, {'nombre': 'camisa_hawaiana', 'precio': 18, 'cantidad': 30}, {'nombre': 'pantalon_gotico', 'precio': 35, 'cantidad': 25}, {'nombre': 'falda_escocesa', 'precio': 25, 'cantidad': 18}, {'nombre': 'hanbok_coreano', 'precio': 50, 'cantidad': 20}]\n",
      "Se han añadido 12 unidades al producto falda_escocesa.\n",
      "Ahora hay 30 unidades del producto falda_escocesa.\n"
     ]
    }
   ],
   "source": [
    "Viste_a_tu_rollo.agregar_producto(\"sombrero_vaquero\", precio = 12, cantidad = 40 )\n",
    "Viste_a_tu_rollo.agregar_producto(\"camisa_hawaiana\", precio = 18, cantidad = 30 )\n",
    "Viste_a_tu_rollo.agregar_producto(\"pantalon_gotico\", precio = 35, cantidad = 25 )\n",
    "Viste_a_tu_rollo.agregar_producto(\"falda_escocesa\", precio = 25, cantidad = 18 )\n",
    "Viste_a_tu_rollo.agregar_producto(\"hanbok_coreano\", precio = 50, cantidad = 20 )\n",
    "Viste_a_tu_rollo.agregar_producto(\"falda_escocesa\", precio = 25, cantidad = 12)"
   ]
  },
  {
   "cell_type": "code",
   "execution_count": 176,
   "id": "b96c0d27",
   "metadata": {},
   "outputs": [
    {
     "name": "stdout",
     "output_type": "stream",
     "text": [
      "Nombre: sombrero_vaquero, Precio: 12€, Cantidad: 40\n",
      "Nombre: camisa_hawaiana, Precio: 18€, Cantidad: 30\n",
      "Nombre: pantalon_gotico, Precio: 35€, Cantidad: 25\n",
      "Nombre: falda_escocesa, Precio: 25€, Cantidad: 30\n",
      "Nombre: hanbok_coreano, Precio: 50€, Cantidad: 20\n"
     ]
    }
   ],
   "source": [
    "Viste_a_tu_rollo.ver_inventario()"
   ]
  },
  {
   "cell_type": "code",
   "execution_count": 177,
   "id": "f8a46482",
   "metadata": {},
   "outputs": [
    {
     "name": "stdout",
     "output_type": "stream",
     "text": [
      "{'nombre': 'hanbok_coreano', 'precio': 50, 'cantidad': 20}\n",
      "Este producto no existe\n",
      "None\n"
     ]
    }
   ],
   "source": [
    "print (Viste_a_tu_rollo.buscar_producto(\"Hanbok_Coreano\"))\n",
    "print (Viste_a_tu_rollo.buscar_producto(\"tunica\"))"
   ]
  },
  {
   "cell_type": "code",
   "execution_count": 178,
   "id": "8a708399",
   "metadata": {},
   "outputs": [
    {
     "name": "stdout",
     "output_type": "stream",
     "text": [
      "{'nombre': 'camisa_hawaiana', 'precio': 18, 'cantidad': 30}\n",
      "{'nombre': 'sombrero_vaquero', 'precio': 12, 'cantidad': 40}\n",
      "El producto solicitado no está en nuestro inventario\n",
      "None\n"
     ]
    }
   ],
   "source": [
    "print (Viste_a_tu_rollo.actualizar_stock(\"Camisa_Hawaiana\", 8)) #añadir\n",
    "print (Viste_a_tu_rollo.actualizar_stock(\"sombrero_Vaquero\", 5)) #retirar\n",
    "print (Viste_a_tu_rollo.actualizar_stock(\"tunica\", 10)) #producto no existente"
   ]
  },
  {
   "cell_type": "code",
   "execution_count": 179,
   "id": "f65292b8",
   "metadata": {},
   "outputs": [
    {
     "name": "stdout",
     "output_type": "stream",
     "text": [
      "[{'nombre': 'sombrero_vaquero', 'precio': 12, 'cantidad': 40}, {'nombre': 'camisa_hawaiana', 'precio': 18, 'cantidad': 30}, {'nombre': 'pantalon_gotico', 'precio': 35, 'cantidad': 25}, {'nombre': 'falda_escocesa', 'precio': 25, 'cantidad': 30}]\n",
      "Este producto no existe\n",
      "None\n"
     ]
    }
   ],
   "source": [
    "print(Viste_a_tu_rollo.eliminar_producto(\"hanbok_Coreano\"))\n",
    "print(Viste_a_tu_rollo.eliminar_producto(\"tunica\"))"
   ]
  },
  {
   "cell_type": "code",
   "execution_count": 180,
   "id": "97db33af",
   "metadata": {},
   "outputs": [
    {
     "data": {
      "text/plain": [
       "2645"
      ]
     },
     "execution_count": 180,
     "metadata": {},
     "output_type": "execute_result"
    }
   ],
   "source": [
    "Viste_a_tu_rollo.calcular_valor_inventario()"
   ]
  },
  {
   "cell_type": "code",
   "execution_count": 181,
   "id": "9f1ffddc",
   "metadata": {},
   "outputs": [
    {
     "name": "stdout",
     "output_type": "stream",
     "text": [
      "¡Bienvenide a la tienda online Viste a tu rollo!Estos son los productos disponibles:\n",
      "Nombre: sombrero_vaquero, Precio: 12€, Cantidad: 40\n",
      "Nombre: camisa_hawaiana, Precio: 18€, Cantidad: 30\n",
      "Nombre: pantalon_gotico, Precio: 35€, Cantidad: 25\n",
      "Nombre: falda_escocesa, Precio: 25€, Cantidad: 30\n",
      "Usted a escogido comprar 3 pantalon_gotico\n",
      "Usted a escogido comprar 30 sombrero_vaquero\n",
      "El total de su compra ha sido 105€. ¡Muchas gracias por comprar en Viste a tu rollo!\n",
      "El total de su compra ha sido 465€. ¡Muchas gracias por comprar en Viste a tu rollo!\n"
     ]
    }
   ],
   "source": [
    "Viste_a_tu_rollo.realizar_compra()"
   ]
  }
 ],
 "metadata": {
  "kernelspec": {
   "display_name": "Python 3",
   "language": "python",
   "name": "python3"
  },
  "language_info": {
   "codemirror_mode": {
    "name": "ipython",
    "version": 3
   },
   "file_extension": ".py",
   "mimetype": "text/x-python",
   "name": "python",
   "nbconvert_exporter": "python",
   "pygments_lexer": "ipython3",
   "version": "3.13.2"
  }
 },
 "nbformat": 4,
 "nbformat_minor": 5
}
