{
 "cells": [
  {
   "cell_type": "code",
   "execution_count": 1,
   "id": "64433a1a",
   "metadata": {},
   "outputs": [],
   "source": [
    "import pandas as pd"
   ]
  },
  {
   "cell_type": "code",
   "execution_count": 2,
   "id": "03e34e4b",
   "metadata": {},
   "outputs": [
    {
     "data": {
      "application/vnd.microsoft.datawrangler.viewer.v0+json": {
       "columns": [
        {
         "name": "index",
         "rawType": "int64",
         "type": "integer"
        },
        {
         "name": "Age",
         "rawType": "int64",
         "type": "integer"
        },
        {
         "name": "Gender",
         "rawType": "object",
         "type": "string"
        },
        {
         "name": "Employment Status",
         "rawType": "object",
         "type": "string"
        },
        {
         "name": "Work Environment",
         "rawType": "object",
         "type": "string"
        },
        {
         "name": "Mental Health History",
         "rawType": "object",
         "type": "string"
        },
        {
         "name": "Seeks Treatment",
         "rawType": "object",
         "type": "string"
        },
        {
         "name": "Stress Level",
         "rawType": "int64",
         "type": "integer"
        },
        {
         "name": "Sleep Hours",
         "rawType": "object",
         "type": "string"
        },
        {
         "name": "Physical Activity Days",
         "rawType": "int64",
         "type": "integer"
        },
        {
         "name": "Depression Score",
         "rawType": "int64",
         "type": "integer"
        },
        {
         "name": "Anxiety Score",
         "rawType": "int64",
         "type": "integer"
        },
        {
         "name": "Social Support Score",
         "rawType": "int64",
         "type": "integer"
        },
        {
         "name": "Productivity Score",
         "rawType": "object",
         "type": "string"
        },
        {
         "name": "Mental Health Risk",
         "rawType": "object",
         "type": "string"
        }
       ],
       "ref": "f00dc25e-69e1-413d-a84e-49318f081174",
       "rows": [
        [
         "0",
         "56",
         "Male",
         "Employed",
         "On-site",
         "Yes",
         "Yes",
         "6",
         "6,2",
         "3",
         "28",
         "17",
         "54",
         "59,7",
         "High"
        ]
       ],
       "shape": {
        "columns": 14,
        "rows": 1
       }
      },
      "text/html": [
       "<div>\n",
       "<style scoped>\n",
       "    .dataframe tbody tr th:only-of-type {\n",
       "        vertical-align: middle;\n",
       "    }\n",
       "\n",
       "    .dataframe tbody tr th {\n",
       "        vertical-align: top;\n",
       "    }\n",
       "\n",
       "    .dataframe thead th {\n",
       "        text-align: right;\n",
       "    }\n",
       "</style>\n",
       "<table border=\"1\" class=\"dataframe\">\n",
       "  <thead>\n",
       "    <tr style=\"text-align: right;\">\n",
       "      <th></th>\n",
       "      <th>Age</th>\n",
       "      <th>Gender</th>\n",
       "      <th>Employment Status</th>\n",
       "      <th>Work Environment</th>\n",
       "      <th>Mental Health History</th>\n",
       "      <th>Seeks Treatment</th>\n",
       "      <th>Stress Level</th>\n",
       "      <th>Sleep Hours</th>\n",
       "      <th>Physical Activity Days</th>\n",
       "      <th>Depression Score</th>\n",
       "      <th>Anxiety Score</th>\n",
       "      <th>Social Support Score</th>\n",
       "      <th>Productivity Score</th>\n",
       "      <th>Mental Health Risk</th>\n",
       "    </tr>\n",
       "  </thead>\n",
       "  <tbody>\n",
       "    <tr>\n",
       "      <th>0</th>\n",
       "      <td>56</td>\n",
       "      <td>Male</td>\n",
       "      <td>Employed</td>\n",
       "      <td>On-site</td>\n",
       "      <td>Yes</td>\n",
       "      <td>Yes</td>\n",
       "      <td>6</td>\n",
       "      <td>6,2</td>\n",
       "      <td>3</td>\n",
       "      <td>28</td>\n",
       "      <td>17</td>\n",
       "      <td>54</td>\n",
       "      <td>59,7</td>\n",
       "      <td>High</td>\n",
       "    </tr>\n",
       "  </tbody>\n",
       "</table>\n",
       "</div>"
      ],
      "text/plain": [
       "   Age Gender Employment Status Work Environment Mental Health History  \\\n",
       "0   56   Male          Employed          On-site                   Yes   \n",
       "\n",
       "  Seeks Treatment  Stress Level Sleep Hours  Physical Activity Days  \\\n",
       "0             Yes             6         6,2                       3   \n",
       "\n",
       "   Depression Score  Anxiety Score  Social Support Score Productivity Score  \\\n",
       "0                28             17                    54               59,7   \n",
       "\n",
       "  Mental Health Risk  \n",
       "0               High  "
      ]
     },
     "execution_count": 2,
     "metadata": {},
     "output_type": "execute_result"
    }
   ],
   "source": [
    "estudio_probabilidades_enfermedad_mental = pd.read_csv('estudio probabilidades enfermedad mental.csv', index_col=False)\n",
    "estudio_probabilidades_enfermedad_mental.head(1)"
   ]
  },
  {
   "cell_type": "code",
   "execution_count": 8,
   "id": "29eb32d4",
   "metadata": {},
   "outputs": [
    {
     "data": {
      "text/plain": [
       "Index(['Age', 'Gender', 'Employment Status', 'Work Environment',\n",
       "       'Mental Health History', 'Seeks Treatment', 'Stress Level',\n",
       "       'Sleep Hours', 'Physical Activity Days', 'Depression Score',\n",
       "       'Anxiety Score', 'Social Support Score', 'Productivity Score',\n",
       "       'Mental Health Risk'],\n",
       "      dtype='object')"
      ]
     },
     "execution_count": 8,
     "metadata": {},
     "output_type": "execute_result"
    }
   ],
   "source": [
    "estudio_probabilidades_enfermedad_mental.columns"
   ]
  },
  {
   "cell_type": "code",
   "execution_count": 3,
   "id": "f1187e50",
   "metadata": {},
   "outputs": [
    {
     "data": {
      "application/vnd.microsoft.datawrangler.viewer.v0+json": {
       "columns": [
        {
         "name": "index",
         "rawType": "int64",
         "type": "integer"
        },
        {
         "name": "Year",
         "rawType": "int64",
         "type": "integer"
        },
        {
         "name": "Gender",
         "rawType": "object",
         "type": "string"
        },
        {
         "name": "Country",
         "rawType": "object",
         "type": "string"
        },
        {
         "name": "Occupation",
         "rawType": "object",
         "type": "string"
        },
        {
         "name": "Self Employed",
         "rawType": "object",
         "type": "string"
        },
        {
         "name": "Family History",
         "rawType": "object",
         "type": "string"
        },
        {
         "name": "Treatment",
         "rawType": "object",
         "type": "string"
        },
        {
         "name": "Days Indoors",
         "rawType": "object",
         "type": "string"
        },
        {
         "name": "Growing Stress",
         "rawType": "object",
         "type": "string"
        },
        {
         "name": "Changes Habits",
         "rawType": "object",
         "type": "string"
        },
        {
         "name": "Mental Health History",
         "rawType": "object",
         "type": "string"
        },
        {
         "name": "Mood Swings",
         "rawType": "object",
         "type": "string"
        },
        {
         "name": "Coping Struggles",
         "rawType": "object",
         "type": "string"
        },
        {
         "name": "Work Interest",
         "rawType": "object",
         "type": "string"
        },
        {
         "name": "Social Weakness",
         "rawType": "object",
         "type": "string"
        },
        {
         "name": "Mental Health Interview",
         "rawType": "object",
         "type": "string"
        },
        {
         "name": "Care Options",
         "rawType": "object",
         "type": "string"
        },
        {
         "name": "Continent",
         "rawType": "object",
         "type": "string"
        }
       ],
       "ref": "054898a2-8df9-4b01-8487-363bc20afc73",
       "rows": [
        [
         "0",
         "2014",
         "Female",
         "United States",
         "Corporate",
         "No",
         "No",
         "Yes",
         "1-14 days",
         "Yes",
         "No",
         "Yes",
         "Medium",
         "No",
         "No",
         "Yes",
         "No",
         "Not sure",
         "América"
        ]
       ],
       "shape": {
        "columns": 18,
        "rows": 1
       }
      },
      "text/html": [
       "<div>\n",
       "<style scoped>\n",
       "    .dataframe tbody tr th:only-of-type {\n",
       "        vertical-align: middle;\n",
       "    }\n",
       "\n",
       "    .dataframe tbody tr th {\n",
       "        vertical-align: top;\n",
       "    }\n",
       "\n",
       "    .dataframe thead th {\n",
       "        text-align: right;\n",
       "    }\n",
       "</style>\n",
       "<table border=\"1\" class=\"dataframe\">\n",
       "  <thead>\n",
       "    <tr style=\"text-align: right;\">\n",
       "      <th></th>\n",
       "      <th>Year</th>\n",
       "      <th>Gender</th>\n",
       "      <th>Country</th>\n",
       "      <th>Occupation</th>\n",
       "      <th>Self Employed</th>\n",
       "      <th>Family History</th>\n",
       "      <th>Treatment</th>\n",
       "      <th>Days Indoors</th>\n",
       "      <th>Growing Stress</th>\n",
       "      <th>Changes Habits</th>\n",
       "      <th>Mental Health History</th>\n",
       "      <th>Mood Swings</th>\n",
       "      <th>Coping Struggles</th>\n",
       "      <th>Work Interest</th>\n",
       "      <th>Social Weakness</th>\n",
       "      <th>Mental Health Interview</th>\n",
       "      <th>Care Options</th>\n",
       "      <th>Continent</th>\n",
       "    </tr>\n",
       "  </thead>\n",
       "  <tbody>\n",
       "    <tr>\n",
       "      <th>0</th>\n",
       "      <td>2014</td>\n",
       "      <td>Female</td>\n",
       "      <td>United States</td>\n",
       "      <td>Corporate</td>\n",
       "      <td>No</td>\n",
       "      <td>No</td>\n",
       "      <td>Yes</td>\n",
       "      <td>1-14 days</td>\n",
       "      <td>Yes</td>\n",
       "      <td>No</td>\n",
       "      <td>Yes</td>\n",
       "      <td>Medium</td>\n",
       "      <td>No</td>\n",
       "      <td>No</td>\n",
       "      <td>Yes</td>\n",
       "      <td>No</td>\n",
       "      <td>Not sure</td>\n",
       "      <td>América</td>\n",
       "    </tr>\n",
       "  </tbody>\n",
       "</table>\n",
       "</div>"
      ],
      "text/plain": [
       "   Year  Gender        Country Occupation Self Employed Family History  \\\n",
       "0  2014  Female  United States  Corporate            No             No   \n",
       "\n",
       "  Treatment Days Indoors Growing Stress Changes Habits Mental Health History  \\\n",
       "0       Yes    1-14 days            Yes             No                   Yes   \n",
       "\n",
       "  Mood Swings Coping Struggles Work Interest Social Weakness  \\\n",
       "0      Medium               No            No             Yes   \n",
       "\n",
       "  Mental Health Interview Care Options Continent  \n",
       "0                      No     Not sure   América  "
      ]
     },
     "execution_count": 3,
     "metadata": {},
     "output_type": "execute_result"
    }
   ],
   "source": [
    "habitos_salud_mental = pd.read_csv('habitos salud mental.csv', index_col=False)\n",
    "habitos_salud_mental.head(1)"
   ]
  },
  {
   "cell_type": "code",
   "execution_count": 6,
   "id": "0948c2a9",
   "metadata": {},
   "outputs": [
    {
     "data": {
      "text/plain": [
       "Index(['Year', 'Gender', 'Country', 'Occupation', 'Self Employed',\n",
       "       'Family History', 'Treatment', 'Days Indoors', 'Growing Stress',\n",
       "       'Changes Habits', 'Mental Health History', 'Mood Swings',\n",
       "       'Coping Struggles', 'Work Interest', 'Social Weakness',\n",
       "       'Mental Health Interview', 'Care Options', 'Continent'],\n",
       "      dtype='object')"
      ]
     },
     "execution_count": 6,
     "metadata": {},
     "output_type": "execute_result"
    }
   ],
   "source": [
    "habitos_salud_mental.columns"
   ]
  },
  {
   "cell_type": "code",
   "execution_count": 7,
   "id": "3d108a85",
   "metadata": {},
   "outputs": [
    {
     "data": {
      "text/plain": [
       "array(['1-14 days', 'Go out Every day', 'More than 2 months',\n",
       "       '15-30 days', '31-60 days'], dtype=object)"
      ]
     },
     "execution_count": 7,
     "metadata": {},
     "output_type": "execute_result"
    }
   ],
   "source": [
    "habitos_salud_mental['Days Indoors'].unique()"
   ]
  },
  {
   "cell_type": "code",
   "execution_count": 4,
   "id": "e17cc40b",
   "metadata": {},
   "outputs": [
    {
     "data": {
      "application/vnd.microsoft.datawrangler.viewer.v0+json": {
       "columns": [
        {
         "name": "index",
         "rawType": "int64",
         "type": "integer"
        },
        {
         "name": "Country",
         "rawType": "object",
         "type": "string"
        },
        {
         "name": "Year",
         "rawType": "int64",
         "type": "integer"
        },
        {
         "name": "Schizophrenia (%)",
         "rawType": "object",
         "type": "string"
        },
        {
         "name": "Bipolar Disorder (%)",
         "rawType": "object",
         "type": "string"
        },
        {
         "name": "Eating Disorders (%)",
         "rawType": "object",
         "type": "string"
        },
        {
         "name": "Anxiety Disorders (%)",
         "rawType": "object",
         "type": "string"
        },
        {
         "name": "Drug Use Disorders (%)",
         "rawType": "object",
         "type": "string"
        },
        {
         "name": "Depression (%)",
         "rawType": "object",
         "type": "string"
        },
        {
         "name": "Alcohol Use Disorders (%)",
         "rawType": "object",
         "type": "string"
        },
        {
         "name": "Continent",
         "rawType": "object",
         "type": "string"
        }
       ],
       "ref": "a3237a0b-56d1-4c62-b35a-ff7beb557ffc",
       "rows": [
        [
         "0",
         "Australia",
         "1990",
         "0,360488563758999",
         "1,12913444698",
         "0,700090525224",
         "6,52529436951",
         "2,13323614922",
         "4,62118658828",
         "1,35291016420999",
         "Oceanía"
        ]
       ],
       "shape": {
        "columns": 10,
        "rows": 1
       }
      },
      "text/html": [
       "<div>\n",
       "<style scoped>\n",
       "    .dataframe tbody tr th:only-of-type {\n",
       "        vertical-align: middle;\n",
       "    }\n",
       "\n",
       "    .dataframe tbody tr th {\n",
       "        vertical-align: top;\n",
       "    }\n",
       "\n",
       "    .dataframe thead th {\n",
       "        text-align: right;\n",
       "    }\n",
       "</style>\n",
       "<table border=\"1\" class=\"dataframe\">\n",
       "  <thead>\n",
       "    <tr style=\"text-align: right;\">\n",
       "      <th></th>\n",
       "      <th>Country</th>\n",
       "      <th>Year</th>\n",
       "      <th>Schizophrenia (%)</th>\n",
       "      <th>Bipolar Disorder (%)</th>\n",
       "      <th>Eating Disorders (%)</th>\n",
       "      <th>Anxiety Disorders (%)</th>\n",
       "      <th>Drug Use Disorders (%)</th>\n",
       "      <th>Depression (%)</th>\n",
       "      <th>Alcohol Use Disorders (%)</th>\n",
       "      <th>Continent</th>\n",
       "    </tr>\n",
       "  </thead>\n",
       "  <tbody>\n",
       "    <tr>\n",
       "      <th>0</th>\n",
       "      <td>Australia</td>\n",
       "      <td>1990</td>\n",
       "      <td>0,360488563758999</td>\n",
       "      <td>1,12913444698</td>\n",
       "      <td>0,700090525224</td>\n",
       "      <td>6,52529436951</td>\n",
       "      <td>2,13323614922</td>\n",
       "      <td>4,62118658828</td>\n",
       "      <td>1,35291016420999</td>\n",
       "      <td>Oceanía</td>\n",
       "    </tr>\n",
       "  </tbody>\n",
       "</table>\n",
       "</div>"
      ],
      "text/plain": [
       "     Country  Year  Schizophrenia (%) Bipolar Disorder (%)  \\\n",
       "0  Australia  1990  0,360488563758999        1,12913444698   \n",
       "\n",
       "  Eating Disorders (%) Anxiety Disorders (%) Drug Use Disorders (%)  \\\n",
       "0       0,700090525224         6,52529436951          2,13323614922   \n",
       "\n",
       "  Depression (%) Alcohol Use Disorders (%) Continent  \n",
       "0  4,62118658828          1,35291016420999   Oceanía  "
      ]
     },
     "execution_count": 4,
     "metadata": {},
     "output_type": "execute_result"
    }
   ],
   "source": [
    "estadisticas_trastornos_mentales = pd.read_csv('estadisticas trastornos mentales.csv', index_col=False)\n",
    "estadisticas_trastornos_mentales.head(1)"
   ]
  },
  {
   "cell_type": "code",
   "execution_count": 5,
   "id": "5d2aeaff",
   "metadata": {},
   "outputs": [
    {
     "data": {
      "application/vnd.microsoft.datawrangler.viewer.v0+json": {
       "columns": [
        {
         "name": "index",
         "rawType": "int64",
         "type": "integer"
        },
        {
         "name": "Country",
         "rawType": "object",
         "type": "string"
        },
        {
         "name": "Year",
         "rawType": "int64",
         "type": "integer"
        },
        {
         "name": "Continent",
         "rawType": "object",
         "type": "string"
        },
        {
         "name": "Disorder",
         "rawType": "object",
         "type": "string"
        },
        {
         "name": "Percentage",
         "rawType": "object",
         "type": "string"
        }
       ],
       "ref": "846c5165-ec7a-4b77-950e-a9f93f71d917",
       "rows": [
        [
         "0",
         "Australia",
         "1990",
         "Oceanía",
         "Schizophrenia ",
         "0,360488563758999"
        ]
       ],
       "shape": {
        "columns": 5,
        "rows": 1
       }
      },
      "text/html": [
       "<div>\n",
       "<style scoped>\n",
       "    .dataframe tbody tr th:only-of-type {\n",
       "        vertical-align: middle;\n",
       "    }\n",
       "\n",
       "    .dataframe tbody tr th {\n",
       "        vertical-align: top;\n",
       "    }\n",
       "\n",
       "    .dataframe thead th {\n",
       "        text-align: right;\n",
       "    }\n",
       "</style>\n",
       "<table border=\"1\" class=\"dataframe\">\n",
       "  <thead>\n",
       "    <tr style=\"text-align: right;\">\n",
       "      <th></th>\n",
       "      <th>Country</th>\n",
       "      <th>Year</th>\n",
       "      <th>Continent</th>\n",
       "      <th>Disorder</th>\n",
       "      <th>Percentage</th>\n",
       "    </tr>\n",
       "  </thead>\n",
       "  <tbody>\n",
       "    <tr>\n",
       "      <th>0</th>\n",
       "      <td>Australia</td>\n",
       "      <td>1990</td>\n",
       "      <td>Oceanía</td>\n",
       "      <td>Schizophrenia</td>\n",
       "      <td>0,360488563758999</td>\n",
       "    </tr>\n",
       "  </tbody>\n",
       "</table>\n",
       "</div>"
      ],
      "text/plain": [
       "     Country  Year Continent        Disorder         Percentage\n",
       "0  Australia  1990   Oceanía  Schizophrenia   0,360488563758999"
      ]
     },
     "execution_count": 5,
     "metadata": {},
     "output_type": "execute_result"
    }
   ],
   "source": [
    "estadisticas_trastornos_mentales_modificado = pd.read_csv('estadisticas trastornos mentales modificado.csv', index_col=False)\n",
    "estadisticas_trastornos_mentales_modificado.head(1)"
   ]
  }
 ],
 "metadata": {
  "kernelspec": {
   "display_name": "Python 3",
   "language": "python",
   "name": "python3"
  },
  "language_info": {
   "codemirror_mode": {
    "name": "ipython",
    "version": 3
   },
   "file_extension": ".py",
   "mimetype": "text/x-python",
   "name": "python",
   "nbconvert_exporter": "python",
   "pygments_lexer": "ipython3",
   "version": "3.13.2"
  }
 },
 "nbformat": 4,
 "nbformat_minor": 5
}
