{
 "cells": [
  {
   "cell_type": "code",
   "execution_count": null,
   "id": "b022647e",
   "metadata": {},
   "outputs": [],
   "source": [
    "# Importamos la biblioteca necesaria para trabajar con dataframes\n",
    "\n",
    "import pandas as pd"
   ]
  },
  {
   "cell_type": "code",
   "execution_count": null,
   "id": "14c5d5f9",
   "metadata": {},
   "outputs": [],
   "source": [
    "# Cargamos los archivos \n",
    "\n",
    "df_pelis = pd.read_csv('horror_movies.csv', index_col=0)\n",
    "df_IMDB = pd.read_csv('IMDB_Horror_movies.csv', index_col=False)"
   ]
  },
  {
   "cell_type": "code",
   "execution_count": null,
   "id": "c440cddb",
   "metadata": {},
   "outputs": [],
   "source": [
    "# Revisamos df\n",
    "\n",
    "df_pelis.head()"
   ]
  },
  {
   "cell_type": "code",
   "execution_count": null,
   "id": "0827a9ec",
   "metadata": {},
   "outputs": [],
   "source": [
    "# Revisamos df\n",
    "\n",
    "df_IMDB.head()"
   ]
  },
  {
   "cell_type": "code",
   "execution_count": null,
   "id": "6d3b7590",
   "metadata": {},
   "outputs": [],
   "source": [
    "# Creamos una nueva columna con los datos limpios para usarla de punto de unión con el otro df\n",
    "\n",
    "df_pelis['titulos minuscula'] = df_pelis['title'].str.lower().str.replace(' ', '').str.replace(':', '').str.replace('-', '')\n",
    "df_pelis.head(1)"
   ]
  },
  {
   "cell_type": "code",
   "execution_count": null,
   "id": "975cf675",
   "metadata": {},
   "outputs": [],
   "source": [
    "# Importamos regex\n",
    "\n",
    "import re"
   ]
  },
  {
   "cell_type": "code",
   "execution_count": null,
   "id": "290d26ed",
   "metadata": {},
   "outputs": [],
   "source": [
    "# Eliminamos la fecha del título\n",
    "\n",
    "df_IMDB[\"Title\"] = df_IMDB[\"Title\"].str.replace(r'\\s*\\(\\d{4}\\)', '', regex=True)\n",
    "df_IMDB.head(1)"
   ]
  },
  {
   "cell_type": "code",
   "execution_count": null,
   "id": "404cda48",
   "metadata": {},
   "outputs": [],
   "source": [
    "# Creamos una nueva columna con los datos limpios para usarla de punto de unión con el otro df\n",
    "\n",
    "df_IMDB['titulos minuscula'] = df_IMDB['Title'].str.lower().str.replace(' ', '').str.replace(':', '').str.replace('-', '')\n",
    "df_IMDB.head(1)"
   ]
  },
  {
   "cell_type": "code",
   "execution_count": null,
   "id": "f62f1c54",
   "metadata": {},
   "outputs": [],
   "source": [
    "# Unimos ambos df's con las coincidencias en la columna creada\n",
    "\n",
    "df_definitivo = pd.merge(df_pelis, df_IMDB, on='titulos minuscula', how='inner')\n",
    "df_definitivo"
   ]
  },
  {
   "cell_type": "code",
   "execution_count": null,
   "id": "82721b86",
   "metadata": {},
   "outputs": [],
   "source": [
    "# Eliminamos posibles duplicados\n",
    "\n",
    "df_definitivo = df_definitivo.drop_duplicates()\n",
    "df_definitivo"
   ]
  },
  {
   "cell_type": "code",
   "execution_count": null,
   "id": "51742e95",
   "metadata": {},
   "outputs": [],
   "source": [
    "# Subimos el df en archivo csv\n",
    "\n",
    "df_definitivo.to_csv('pelis definitivo.csv', index=False)"
   ]
  },
  {
   "cell_type": "code",
   "execution_count": null,
   "id": "46157ad8",
   "metadata": {},
   "outputs": [],
   "source": [
    "# Subimos el df en archivo excel\n",
    "\n",
    "df_definitivo.to_excel('pelis definitivo ex.xlsx', index=False)"
   ]
  }
 ],
 "metadata": {
  "kernelspec": {
   "display_name": "Python 3",
   "language": "python",
   "name": "python3"
  },
  "language_info": {
   "codemirror_mode": {
    "name": "ipython",
    "version": 3
   },
   "file_extension": ".py",
   "mimetype": "text/x-python",
   "name": "python",
   "nbconvert_exporter": "python",
   "pygments_lexer": "ipython3",
   "version": "3.13.2"
  }
 },
 "nbformat": 4,
 "nbformat_minor": 5
}
