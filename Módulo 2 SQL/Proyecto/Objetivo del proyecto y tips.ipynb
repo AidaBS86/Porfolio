{
 "cells": [
  {
   "cell_type": "markdown",
   "metadata": {},
   "source": [
    "## Proyecto Music Stream\n",
    "\n",
    "\n",
    "### Objetivo\n",
    "\n",
    "1. Crear una bases de datos para almacenar información de canciones y artistas. \n",
    "2. Extraer información de la base de datos para responder preguntas sobre la música almacenada.\n",
    "\n",
    "### Fases del proyecto \n",
    "\n",
    "**Fase 1: Extraer Datos**\n",
    "1. Extraer información de Api Spotify\n",
    "2. Extraer información de API Last FM\n",
    "3. Guardar esa información en CSV\n",
    "\n",
    "**Fase 2:Bases de datos**\n",
    "1. Diseñar la Base de Datos\n",
    "2. Crear la bases de datos\n",
    "3. Insertar los valores en la bases de datos\n",
    "   \n",
    "**Fase 3:Extraer información**\n",
    "1. Extraer información de la base de datos para responder preguntas sobre la música almacenada.\n",
    "   "
   ]
  },
  {
   "cell_type": "markdown",
   "metadata": {},
   "source": [
    "## Comencemos... Fase 1.1 Extraer información de Api Spotify\n",
    "\n",
    "- Debemos usar la librería spotipy para extraer información de la API de Spotify: https://spotipy.readthedocs.io/en/2.24.0/ \n",
    "- Debemos hacer una cuenta en Spotify para obtener las credenciales necesarias para usar la API de Spotify.\n",
    "- `!pip install spotipy`\n",
    "\n"
   ]
  },
  {
   "cell_type": "code",
   "execution_count": 3,
   "metadata": {},
   "outputs": [
    {
     "name": "stdout",
     "output_type": "stream",
     "text": [
      "Collecting spotipy\n",
      "  Downloading spotipy-2.25.0-py3-none-any.whl.metadata (4.7 kB)\n",
      "Collecting redis>=3.5.3 (from spotipy)\n",
      "  Downloading redis-5.2.1-py3-none-any.whl.metadata (9.1 kB)\n",
      "Requirement already satisfied: requests>=2.25.0 in c:\\users\\rmart\\anaconda3\\lib\\site-packages (from spotipy) (2.31.0)\n",
      "Requirement already satisfied: urllib3>=1.26.0 in c:\\users\\rmart\\anaconda3\\lib\\site-packages (from spotipy) (2.0.7)\n",
      "Requirement already satisfied: charset-normalizer<4,>=2 in c:\\users\\rmart\\anaconda3\\lib\\site-packages (from requests>=2.25.0->spotipy) (2.0.4)\n",
      "Requirement already satisfied: idna<4,>=2.5 in c:\\users\\rmart\\anaconda3\\lib\\site-packages (from requests>=2.25.0->spotipy) (3.4)\n",
      "Requirement already satisfied: certifi>=2017.4.17 in c:\\users\\rmart\\anaconda3\\lib\\site-packages (from requests>=2.25.0->spotipy) (2024.2.2)\n",
      "Downloading spotipy-2.25.0-py3-none-any.whl (30 kB)\n",
      "Downloading redis-5.2.1-py3-none-any.whl (261 kB)\n",
      "   ---------------------------------------- 0.0/261.5 kB ? eta -:--:--\n",
      "   ------ --------------------------------- 41.0/261.5 kB 2.0 MB/s eta 0:00:01\n",
      "   ------------------------------- -------- 204.8/261.5 kB 3.1 MB/s eta 0:00:01\n",
      "   ---------------------------------------- 261.5/261.5 kB 2.7 MB/s eta 0:00:00\n",
      "Installing collected packages: redis, spotipy\n",
      "Successfully installed redis-5.2.1 spotipy-2.25.0\n"
     ]
    }
   ],
   "source": [
    "!pip install spotipy"
   ]
  },
  {
   "cell_type": "code",
   "execution_count": 4,
   "metadata": {},
   "outputs": [],
   "source": [
    "import spotipy"
   ]
  },
  {
   "cell_type": "code",
   "execution_count": 6,
   "metadata": {},
   "outputs": [],
   "source": [
    "from spotipy.oauth2 import SpotifyClientCredentials"
   ]
  },
  {
   "cell_type": "code",
   "execution_count": 7,
   "metadata": {},
   "outputs": [],
   "source": [
    "# Coloca tus credenciales aquí\n",
    "CLIENT_ID = 'a018711755a146b2a678a93741dc6041'\n",
    "CLIENT_SECRET = '51fa44e4b57343f19c810b9a75089da6'\n",
    "\n",
    "# Autenticación\n",
    "auth_manager = SpotifyClientCredentials(client_id=CLIENT_ID, client_secret=CLIENT_SECRET)\n",
    "sp = spotipy.Spotify(auth_manager=auth_manager)"
   ]
  },
  {
   "cell_type": "markdown",
   "metadata": {},
   "source": [
    "### Entendiendo el API de Spotipy \n",
    "\n",
    "\n",
    "- La documentación del API Spotify, el método que vamos a usar: https://spotipy.readthedocs.io/en/2.24.0/index.html#spotipy.client.Spotify.search\n",
    "\n",
    "\n",
    "Tenemos disponible el método `search(q, limit=10, offset=0, type='track', market=None)` donde: \n",
    "\n",
    "- `search` busca un artículo que cumpla las condiciones de la búsqueda, que van ser: \n",
    "- q: la cadena de búsqueda limitando la búsqueda utilizando filtros de campo. Los filtros disponibles son `álbum`, `artista`, `pista`, `año`, `upc`, `etiqueta:hipster`, `etiqueta:nuevo`, isrc y `género`. Cada filtro de campo solo se aplica a ciertos tipos de resultados.\n",
    "  - Los filtros de artista y año se pueden utilizar al buscar álbumes, artistas y pistas. Puede filtrar por un solo año o por un rango (por ejemplo, 1955-1960).\n",
    "  - El filtro de álbumes se puede utilizar mientras se buscan álbumes y pistas\n",
    "  - El filtro de género se puede utilizar al buscar artistas y pistas.\n",
    "  - Los filtros isrc y track se pueden utilizar mientras se buscan pistas.\n",
    "  - Los filtros upc, tag:new y tag:hipster solo se pueden utilizar durante la búsqueda de álbumes.\n",
    "  -  El filtro etiqueta:nuevo devolverá álbumes lanzados en las últimas dos semanas y etiqueta:hipster se puede utilizar para devolver sólo álbumes con el 10% de popularidad más bajo. \n",
    "\n",
    "- limit: el número máximo de elementos que se devolverán. El valor predeterminado es 10 y el límite máximo es 50.\n",
    "- tipo: Una lista separada por comas de tipos de elementos para buscar. Los resultados de la búsqueda incluyen visitas de todos los tipos de elementos especificados. Por ejemplo: q=abacab&type=album,track devuelve álbumes y pistas que coinciden con \"abacab\". Valores permitidos: \"album\", \"artist\", \"playlist\", \"track\", \"show\", \"episode\", \"audiobook\"\n",
    "\n",
    "\n",
    "- Aquí podemos obtener datos como artista, genero, tipo (canción o albuum), nombre, año de lanzamiento, \n",
    "\n",
    "  \n"
   ]
  },
  {
   "cell_type": "markdown",
   "metadata": {},
   "source": [
    "### Como usar el método de search de Spotipy"
   ]
  },
  {
   "cell_type": "code",
   "execution_count": 8,
   "metadata": {},
   "outputs": [],
   "source": [
    "#Estamos buscando las canciones que sean de genero rock del 2020, la consulta lo ponemos en la query\n",
    "datos = sp.search(q=\"genre:rock year:2020\", type='track', limit=50, offset=0)\n",
    "data_track_album = sp.search(q=\"genre:rock year:2020\", type='track,album', limit=50, offset=0)#para ambos"
   ]
  },
  {
   "cell_type": "code",
   "execution_count": 9,
   "metadata": {},
   "outputs": [
    {
     "data": {
      "text/plain": [
       "dict_keys(['tracks'])"
      ]
     },
     "execution_count": 9,
     "metadata": {},
     "output_type": "execute_result"
    }
   ],
   "source": [
    "#aqui vemos que me trae como respuesta, y vemos en el resultado qeu viene dentro de tracks\n",
    "datos.keys()"
   ]
  },
  {
   "cell_type": "code",
   "execution_count": null,
   "metadata": {},
   "outputs": [],
   "source": [
    "datos"
   ]
  },
  {
   "cell_type": "code",
   "execution_count": null,
   "metadata": {},
   "outputs": [],
   "source": [
    "\n",
    "# Aqui veo la info que viene en tracks datos[`tracks`], pero no es suficiente, al parecer la información viene en items, entonces hago un datos['tracks']['items'], como me sigue sin ver bien solo voy a ver un elemento a ver como se ve y hago datos['tracks']['items'][0]\n",
    "datos['tracks']['items'][0]"
   ]
  },
  {
   "cell_type": "code",
   "execution_count": 13,
   "metadata": {},
   "outputs": [],
   "source": [
    "\n",
    "track_only_one = datos['tracks']['items'][2]"
   ]
  },
  {
   "cell_type": "code",
   "execution_count": null,
   "metadata": {},
   "outputs": [],
   "source": [
    "track_only_one"
   ]
  },
  {
   "cell_type": "code",
   "execution_count": 34,
   "metadata": {},
   "outputs": [],
   "source": [
    "\n",
    "track_object = {\n",
    "    'name_track': track_only_one['name'],\n",
    "    'name_artist': track_only_one['artists'][0]['name'],\n",
    "    'genre': \"rock\", #no lo devuelve, lo tengo que poner según el género que esté buscando\n",
    "    'type': track_only_one['type'], \n",
    "    'year': track_only_one['album']['release_date'][:4] \n",
    "}\n",
    "track_object\n",
    "\n",
    "## ahora esto solo está hecho para una canción, de todo el resultado que me devuelve\n",
    "#tendremos que hacer esto mismo para todo el listado: pista hay que hacer un for\n",
    "# la información la guardaremos en un listado de objectos, donde cada objetos es la información de la canción\n",
    "\n",
    "resultados_totales = []\n",
    "for item in datos['tracks']['items']:\n",
    "    resultados_totales.append({\n",
    "             'name_track': item['name'],\n",
    "            'name_artist': item['artists'][0]['name'],\n",
    "            'genre': \"rock\", #no lo devuelve, lo tengo que poner según el género que esté buscando\n",
    "            'type': item['type'], \n",
    "            'year': item['album']['release_date'][:4] })"
   ]
  },
  {
   "cell_type": "code",
   "execution_count": null,
   "metadata": {},
   "outputs": [],
   "source": [
    "#para ver mi listado de canciones\n",
    "resultados_totales"
   ]
  },
  {
   "cell_type": "markdown",
   "metadata": {},
   "source": [
    "### Ahora vamos a hacerlo para nuestro problema..... ahora si!  🚀"
   ]
  },
  {
   "cell_type": "code",
   "execution_count": 45,
   "metadata": {},
   "outputs": [],
   "source": [
    "# Elegimos los géneros\n",
    "genres = ['pop', 'rock', 'hip-hop', 'electronic']\n",
    "anio_inicio = 2002\n",
    "anio_final = 2002\n",
    "\n",
    "results = []\n",
    "artistas = []"
   ]
  },
  {
   "cell_type": "code",
   "execution_count": 46,
   "metadata": {},
   "outputs": [
    {
     "name": "stdout",
     "output_type": "stream",
     "text": [
      "Extrayendo datos para el género: pop\n",
      "Extrayendo datos para el género: rock\n",
      "Extrayendo datos para el género: hip-hop\n",
      "Extrayendo datos para el género: electronic\n"
     ]
    },
    {
     "data": {
      "text/plain": [
       "201"
      ]
     },
     "execution_count": 46,
     "metadata": {},
     "output_type": "execute_result"
    }
   ],
   "source": [
    "#Tendremos que iterar en los géneros y realizarla búsqueda de cada género y rango de año, ejemplo:\n",
    "for genre in genres:\n",
    "    results_genre = sp.search(q=f'genre:{genre} year:{anio_inicio}-{anio_final}', type='track,album', limit=50)\n",
    "    for item in results_genre['tracks']['items']: ## ejemplo solo para canciones\n",
    "        artistas.append(item['artists'][0]['name']) ## añado a la lista de artistas\n",
    "        results.append({\n",
    "                'name_track': item['name'],\n",
    "                'name_artist': item['artists'][0]['name'],\n",
    "                'genre': \"rock\", #no lo devuelve, lo tengo que poner según el género que esté buscando\n",
    "                'type': item['type'], \n",
    "                'year': item['album']['release_date'][:4] })\n",
    "    for item in results_genre['albums']['items']: ## ejemplo solo para albumes\n",
    "        artistas.append(item['artists'][0]['name']) ## añado a la lista de artistas\n",
    "        results.append({\n",
    "                'name_track': item['name'],\n",
    "                'name_artist': item['artists'][0]['name'],\n",
    "                'genre': \"rock\", #no lo devuelve, lo tengo que poner según el género que esté buscando\n",
    "                'type': item['type'], \n",
    "                'year': item['release_date'][:4] })\n",
    "len(results)\n",
    "    # Parece que hay información importante en items, ¿no? y ya sabemos como la tenemos que sacar, tanto para álbumes como para tracks\n",
    "    # Aquí tenemos que hacer lo mismo que anteriormente buscar que datos tenemos para cada caso, ya sea albumes o canciones \n",
    "    #Consejos: buscar un límite de elementos, por ejemplo 500 por álbumes y canciones, una vez que tengáis el código cada una de vosotras se pone con un añi \n",
    "    #¡Ánimo!"
   ]
  },
  {
   "cell_type": "markdown",
   "metadata": {},
   "source": [
    "## Guardar toda la info en un csv"
   ]
  },
  {
   "cell_type": "code",
   "execution_count": null,
   "metadata": {},
   "outputs": [],
   "source": [
    "# Esto me sirve simplemente para ver qeu informacion pude extraer de la API de Spotify.\n",
    "# Convertimos la lista de diccionarios a un DataFrame\n",
    "df = pd.DataFrame(results)\n",
    "\n",
    "# Guardamos el DataFrame en un archivo CSV\n",
    "df.to_csv('spotify_data_final.csv', index=False, encoding='utf-8')"
   ]
  },
  {
   "cell_type": "markdown",
   "metadata": {},
   "source": [
    "## Voy a ir poco más y sacar toda la info de los artistas, al menos el nombre y lo completo con la consulta a lastfm"
   ]
  },
  {
   "cell_type": "code",
   "execution_count": null,
   "metadata": {},
   "outputs": [],
   "source": [
    "import pandas as pd\n",
    "unique_artists = pd.Series(artistas).unique()\n",
    "unique_artists"
   ]
  },
  {
   "cell_type": "markdown",
   "metadata": {},
   "source": [
    "## Proyecto Music Stream\n",
    "\n",
    "## Seguimos... Fase 1.2 Extraer información de Api Last FM\n",
    "\n",
    "- Hay que ir a la página de Last FM y registrarse para obtener una API KEY. https://www.last.fm/api \n",
    "- Consultar la documentación de la API de Last FM para saber como hacer las consultas.https://www.last.fm/api \n",
    "- La dirección URL de la API de Last FM es: http://ws.audioscrobbler.com/2.0/\n",
    "- Aquí podemos obtener información por artista, como: biografia, oyentes, numero de reproducciones, artistas similares\n"
   ]
  },
  {
   "cell_type": "code",
   "execution_count": null,
   "metadata": {},
   "outputs": [],
   "source": [
    "# Importar librería para la conexión con MySQL\n",
    "# -----------------------------------------------------------------------\n",
    "#pip install mysql-connector -> en caso de no tenerla\n",
    "import mysql.connector\n",
    "from mysql.connector import errorcode\n",
    "\n",
    "# Importar librerías para manipulación y análisis de datos\n",
    "# -----------------------------------------------------------------------\n",
    "#pip install requests-> en caso de no tenerla\n",
    "#pip install pandas-> en caso de no tenerla\n",
    "#pip install numpy-> en caso de no tenerla\n",
    "import requests\n",
    "import pandas as pd\n",
    "\n",
    "# conexion a spotify\n",
    "# -----------------------------------------------------------------------\n",
    "#pip install spotipy -> en caso de no tenerla\n",
    "import spotipy\n",
    "from spotipy.oauth2 import SpotifyClientCredentials"
   ]
  },
  {
   "cell_type": "code",
   "execution_count": 15,
   "metadata": {},
   "outputs": [],
   "source": [
    "# Este script consulta los artistas en base a una lista que yo le paso (que traigo desde la consulta de spotify). Su informacion sera artista, \n",
    "# Biography, Listeners, Playcount, Similar Artists\n",
    "\n",
    "\n",
    "# API Key obtenida de last.fm\n",
    "API_KEY = 'd97c59010214fb89dd7e101407646224'  # Reemplaza con tu API Key válida de Last.fm.\n",
    "BASE_URL = 'http://ws.audioscrobbler.com/2.0/' # esta base siempre es la misma."
   ]
  },
  {
   "cell_type": "code",
   "execution_count": null,
   "metadata": {},
   "outputs": [],
   "source": [
    "# Lista para almacenar los datos que luego guardaremos en un DataFrame\n",
    "artist_data = []\n",
    "params_info = {\n",
    "        'method': 'artist.getinfo',\n",
    "        'artist': \"Madonna\",\n",
    "        'api_key': API_KEY,\n",
    "        'format': 'json'\n",
    "    }\n",
    "response_info = requests.get(BASE_URL, params=params_info)\n",
    "data_info = response_info.json()\n",
    "data_info\n"
   ]
  },
  {
   "cell_type": "code",
   "execution_count": null,
   "metadata": {},
   "outputs": [],
   "source": [
    "## Vamos a crear un objeto artista \n",
    "\n",
    "artista = {\n",
    "    'Artist': \"Madonna\",\n",
    "    'Biography': data_info['artist'].get('bio', {}).get('summary'),\n",
    "    'Listeners': data_info['artist'].get('stats', {}).get('listeners', \"Sin datos\"),\n",
    "    'Playcount': data_info['artist'].get('stats', {}).get('playcount', \"Sin datos\")\n",
    "}\n",
    "artista\n"
   ]
  },
  {
   "cell_type": "code",
   "execution_count": null,
   "metadata": {},
   "outputs": [],
   "source": [
    "## Para obtener los artistas similares de un artisa\n",
    "params_similar = {\n",
    "        'method': 'artist.getsimilar',\n",
    "        'artist': \"Madonna\",\n",
    "        'api_key': API_KEY,\n",
    "        'format': 'json'\n",
    "    }\n",
    "\n",
    "response_similar = requests.get(BASE_URL, params=params_similar)\n",
    "data_similar = response_similar.json()\n",
    "data_similar['similarartists']['artist']\n"
   ]
  },
  {
   "cell_type": "code",
   "execution_count": null,
   "metadata": {},
   "outputs": [],
   "source": [
    "# Hago un listado con los valores similares\n",
    "similar_artists=[]\n",
    "for artist in data_similar['similarartists']['artist']:\n",
    "    similar_artists.append(artist['name'])\n",
    "similar_artists\n"
   ]
  },
  {
   "cell_type": "code",
   "execution_count": null,
   "metadata": {},
   "outputs": [],
   "source": [
    "artista['similar_artists'] = similar_artists\n",
    "artista"
   ]
  },
  {
   "cell_type": "markdown",
   "metadata": {},
   "source": [
    "### Ejemplo de resultado:\n",
    "\n",
    "- Una tabla con el nombre de artista, reproducciones, oyentes, biografia y artistas similares\n",
    "- Una tabla de canciones: con el nombre de artista, nombre de cancion, nombre del album, año, genero, id y popularidad\n"
   ]
  }
 ],
 "metadata": {
  "kernelspec": {
   "display_name": "base",
   "language": "python",
   "name": "python3"
  },
  "language_info": {
   "codemirror_mode": {
    "name": "ipython",
    "version": 3
   },
   "file_extension": ".py",
   "mimetype": "text/x-python",
   "name": "python",
   "nbconvert_exporter": "python",
   "pygments_lexer": "ipython3",
   "version": "3.11.7"
  }
 },
 "nbformat": 4,
 "nbformat_minor": 2
}
